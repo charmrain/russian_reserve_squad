{
 "cells": [
  {
   "cell_type": "code",
   "execution_count": 1,
   "metadata": {},
   "outputs": [],
   "source": [
    "import pandas as pd\n",
    "import numpy as np"
   ]
  },
  {
   "cell_type": "code",
   "execution_count": 9,
   "metadata": {},
   "outputs": [
    {
     "data": {
      "text/html": [
       "<div>\n",
       "<style scoped>\n",
       "    .dataframe tbody tr th:only-of-type {\n",
       "        vertical-align: middle;\n",
       "    }\n",
       "\n",
       "    .dataframe tbody tr th {\n",
       "        vertical-align: top;\n",
       "    }\n",
       "\n",
       "    .dataframe thead th {\n",
       "        text-align: right;\n",
       "    }\n",
       "</style>\n",
       "<table border=\"1\" class=\"dataframe\">\n",
       "  <thead>\n",
       "    <tr style=\"text-align: right;\">\n",
       "      <th></th>\n",
       "      <th>0</th>\n",
       "      <th>1</th>\n",
       "      <th>2</th>\n",
       "      <th>3</th>\n",
       "      <th>4</th>\n",
       "    </tr>\n",
       "  </thead>\n",
       "  <tbody>\n",
       "    <tr>\n",
       "      <th>0</th>\n",
       "      <td>ААРИНОЛА ДЖЕССЕ ПЕТЕРОВИЧ</td>\n",
       "      <td>1.10.1994</td>\n",
       "      <td>Г. МОСКВА, УЛ. ДОКУКИНА, ДОМ 9, КОРПУС 1, КВАР...</td>\n",
       "      <td>4510243117</td>\n",
       "      <td>ОТДЕЛЕНИЕ УФМС РОССИИ ПО ГОР. МОСКВЕ ПО РАЙОНУ...</td>\n",
       "    </tr>\n",
       "    <tr>\n",
       "      <th>1</th>\n",
       "      <td>АБАБИЙ ВАСИЛИЙ АЛЕКСЕЕВИЧ</td>\n",
       "      <td>14.1.1997</td>\n",
       "      <td>Г. САНКТ-ПЕТЕРБУРГ, П. СТРЕЛЬНА, Ш. САНКТ-ПЕТЕ...</td>\n",
       "      <td>3411009134</td>\n",
       "      <td>ТЕРРИТОРИАЛЬНЫЙ ПУНКТ УФМС РОССИИ ПО КОСТРОМСК...</td>\n",
       "    </tr>\n",
       "    <tr>\n",
       "      <th>2</th>\n",
       "      <td>АБАБИЙ РОМАН АРТУРОВИЧ</td>\n",
       "      <td>15.5.1997</td>\n",
       "      <td>ОБЛ. НИЖЕГОРОДСКАЯ, Г. НИЖНИЙ НОВГОРОД, ПЕР. 2...</td>\n",
       "      <td>2217682637</td>\n",
       "      <td>ОТДЕЛ УФМС РОССИИ ПО НИЖЕГОРОДСКОЙ ОБЛ. В ПРИО...</td>\n",
       "    </tr>\n",
       "    <tr>\n",
       "      <th>3</th>\n",
       "      <td>АБАБИН ЯРОСЛАВ ДАНИЛОВИЧ</td>\n",
       "      <td>17.5.1997</td>\n",
       "      <td>МОСКВА, КРЫЛАТСКИЕ ХОЛМЫ Д 21 КВ 191</td>\n",
       "      <td>4518270246</td>\n",
       "      <td>ОТДЕЛ УФМС РОССИИ ПО Г. МОСКВЕ ПО РАЙОНУ КРЫЛА...</td>\n",
       "    </tr>\n",
       "    <tr>\n",
       "      <th>4</th>\n",
       "      <td>АБАБКИН СЕРГЕЙ НИКОЛАЕВИЧ</td>\n",
       "      <td>7.6.1991</td>\n",
       "      <td>Г. САНКТ-ПЕТЕРБУРГ, УЛ. ДОБЛЕСТИ, ДОМ 22</td>\n",
       "      <td>411117055</td>\n",
       "      <td>ОТДЕЛ УФМС РОССИИ ПО КРАСНОЯРСКОМУ КРАЮ В Г. Н...</td>\n",
       "    </tr>\n",
       "  </tbody>\n",
       "</table>\n",
       "</div>"
      ],
      "text/plain": [
       "                           0          1  \\\n",
       "0  ААРИНОЛА ДЖЕССЕ ПЕТЕРОВИЧ  1.10.1994   \n",
       "1  АБАБИЙ ВАСИЛИЙ АЛЕКСЕЕВИЧ  14.1.1997   \n",
       "2     АБАБИЙ РОМАН АРТУРОВИЧ  15.5.1997   \n",
       "3   АБАБИН ЯРОСЛАВ ДАНИЛОВИЧ  17.5.1997   \n",
       "4  АБАБКИН СЕРГЕЙ НИКОЛАЕВИЧ   7.6.1991   \n",
       "\n",
       "                                                   2           3  \\\n",
       "0  Г. МОСКВА, УЛ. ДОКУКИНА, ДОМ 9, КОРПУС 1, КВАР...  4510243117   \n",
       "1  Г. САНКТ-ПЕТЕРБУРГ, П. СТРЕЛЬНА, Ш. САНКТ-ПЕТЕ...  3411009134   \n",
       "2  ОБЛ. НИЖЕГОРОДСКАЯ, Г. НИЖНИЙ НОВГОРОД, ПЕР. 2...  2217682637   \n",
       "3               МОСКВА, КРЫЛАТСКИЕ ХОЛМЫ Д 21 КВ 191  4518270246   \n",
       "4           Г. САНКТ-ПЕТЕРБУРГ, УЛ. ДОБЛЕСТИ, ДОМ 22   411117055   \n",
       "\n",
       "                                                   4  \n",
       "0  ОТДЕЛЕНИЕ УФМС РОССИИ ПО ГОР. МОСКВЕ ПО РАЙОНУ...  \n",
       "1  ТЕРРИТОРИАЛЬНЫЙ ПУНКТ УФМС РОССИИ ПО КОСТРОМСК...  \n",
       "2  ОТДЕЛ УФМС РОССИИ ПО НИЖЕГОРОДСКОЙ ОБЛ. В ПРИО...  \n",
       "3  ОТДЕЛ УФМС РОССИИ ПО Г. МОСКВЕ ПО РАЙОНУ КРЫЛА...  \n",
       "4  ОТДЕЛ УФМС РОССИИ ПО КРАСНОЯРСКОМУ КРАЮ В Г. Н...  "
      ]
     },
     "execution_count": 9,
     "metadata": {},
     "output_type": "execute_result"
    }
   ],
   "source": [
    "df = pd.read_csv('Priziv1volna.txt', sep=\"\t\", header=None, on_bad_lines='skip')\n",
    "df.head(5)"
   ]
  },
  {
   "cell_type": "code",
   "execution_count": 10,
   "metadata": {},
   "outputs": [
    {
     "data": {
      "text/html": [
       "<div>\n",
       "<style scoped>\n",
       "    .dataframe tbody tr th:only-of-type {\n",
       "        vertical-align: middle;\n",
       "    }\n",
       "\n",
       "    .dataframe tbody tr th {\n",
       "        vertical-align: top;\n",
       "    }\n",
       "\n",
       "    .dataframe thead th {\n",
       "        text-align: right;\n",
       "    }\n",
       "</style>\n",
       "<table border=\"1\" class=\"dataframe\">\n",
       "  <thead>\n",
       "    <tr style=\"text-align: right;\">\n",
       "      <th></th>\n",
       "      <th>0</th>\n",
       "      <th>1</th>\n",
       "      <th>2</th>\n",
       "      <th>3</th>\n",
       "      <th>4</th>\n",
       "    </tr>\n",
       "  </thead>\n",
       "  <tbody>\n",
       "    <tr>\n",
       "      <th>305915</th>\n",
       "      <td>ЯЩУК АРКАДИЙ ЛЕОНИДОВИЧ</td>\n",
       "      <td>16.7.1994</td>\n",
       "      <td>Г. МОСКВА, Г. ЗЕЛЕНОГРАД, КОРПУС 1803, КВАРТИР...</td>\n",
       "      <td>4509804718</td>\n",
       "      <td>ОТДЕЛЕНИЕ УФМС РОССИИ ПО ГОР. МОСКВЕ ПО РАЙОНУ...</td>\n",
       "    </tr>\n",
       "    <tr>\n",
       "      <th>305916</th>\n",
       "      <td>ЯЩУК ВАДИМ ЕВГЕНЬЕВИЧ</td>\n",
       "      <td>20.12.1993</td>\n",
       "      <td>Г. МОСКВА, УЛ. МАРФИНСКАЯ Б., ДОМ 1, КОРПУС 4,...</td>\n",
       "      <td>4513248313</td>\n",
       "      <td>ОТДЕЛЕНИЕ УФМС РОССИИ ПО ГОР. МОСКВЕ ПО РАЙОНУ...</td>\n",
       "    </tr>\n",
       "    <tr>\n",
       "      <th>305917</th>\n",
       "      <td>ЯЩУК ВЯЧЕСЛАВ АНДРЕЕВИЧ</td>\n",
       "      <td>26.3.1989</td>\n",
       "      <td>Г. МОСКВА, ПЕР. МАГИСТРАЛЬНЫЙ, ДОМ 7, КОРПУС 2...</td>\n",
       "      <td>4510061077</td>\n",
       "      <td>ОТДЕЛЕНИЕ УФМС РОССИИ ПО ГОР. МОСКВЕ ПО РАЙОНУ...</td>\n",
       "    </tr>\n",
       "    <tr>\n",
       "      <th>305918</th>\n",
       "      <td>ЯЩУК ВЯЧЕСЛАВ АНДРЕЕВИЧ</td>\n",
       "      <td>26.3.1989</td>\n",
       "      <td>Г. МОСКВА, ПЕР. МАГИСТРАЛЬНЫЙ, ДОМ 7, КОРПУС 2...</td>\n",
       "      <td>4518383649</td>\n",
       "      <td>ОТДЕЛЕНИЕ УФМС РОССИИ ПО ГОР. МОСКВЕ ПО РАЙОНУ...</td>\n",
       "    </tr>\n",
       "    <tr>\n",
       "      <th>305919</th>\n",
       "      <td>ЯЩУК ИЛЬЯ ЛЕОНИДОВИЧ</td>\n",
       "      <td>2.8.1989</td>\n",
       "      <td>Г. САНКТ-ПЕТЕРБУРГ, ПР-КТ ТОРЕЗА, ДОМ 39, КОРП...</td>\n",
       "      <td>4008754770</td>\n",
       "      <td>ТП №61 ОТДЕЛА УФМС РОССИИ ПО САНКТ-ПЕТЕРБУРГУ ...</td>\n",
       "    </tr>\n",
       "    <tr>\n",
       "      <th>305920</th>\n",
       "      <td>ЯЩУК МИХАИЛ РОМАНОВИЧ</td>\n",
       "      <td>28.2.1996</td>\n",
       "      <td>Г. САНКТ-ПЕТЕРБУРГ, Г. ПУШКИН, УЛ. ГЛИНКИ, ДОМ 23</td>\n",
       "      <td>1115096803</td>\n",
       "      <td>ОТДЕЛЕНИЕ УФМС РОССИИ ПО АРХАНГЕЛЬСКОЙ ОБЛАСТИ...</td>\n",
       "    </tr>\n",
       "    <tr>\n",
       "      <th>305921</th>\n",
       "      <td>ЯЩУК НИКИТА ЕВГЕНЬЕВИЧ</td>\n",
       "      <td>12.7.1996</td>\n",
       "      <td>Г. МОСКВА, ПЕР. СТОЛЯРНЫЙ, ДОМ 2, КВАРТИРА 4</td>\n",
       "      <td>4510822390</td>\n",
       "      <td>ОТДЕЛЕНИЕ ПО Р-НУ ПРЕСНЕНСКИЙ ОУФМС РОССИИ ПО ...</td>\n",
       "    </tr>\n",
       "    <tr>\n",
       "      <th>305922</th>\n",
       "      <td>ЯЩУКОВСКИЙ НИКОЛАЙ ПЕТРОВИЧ</td>\n",
       "      <td>21.5.1993</td>\n",
       "      <td>ОБЛ. ТОМСКАЯ, Р-Н КАРГАСОКСКИЙ, С. НОВЫЙ ВАСЮГ...</td>\n",
       "      <td>6906167954</td>\n",
       "      <td>ТП УФМС РОССИИ ПО ТОМСКОЙ ОБЛ. В КАРГАСОКСКОМ ...</td>\n",
       "    </tr>\n",
       "    <tr>\n",
       "      <th>305923</th>\n",
       "      <td>ЯЩУКОВСКИЙ ТИМОФЕЙ НИКОЛАЕВИЧ</td>\n",
       "      <td>21.9.1988</td>\n",
       "      <td>ОБЛ. НОВОСИБИРСКАЯ, Р-Н НОВОСИБИРСКИЙ, С. КРИВ...</td>\n",
       "      <td>5008492276</td>\n",
       "      <td>ОТДЕЛЕНИЕ УФМС РОССИИ ПО НОВОСИБИРСКОЙ ОБЛ. В ...</td>\n",
       "    </tr>\n",
       "    <tr>\n",
       "      <th>305924</th>\n",
       "      <td>ЯЩУК СЕРГЕЙ ВЛАДИМИРОВИЧ</td>\n",
       "      <td>27.12.1987</td>\n",
       "      <td>Г. САНКТ-ПЕТЕРБУРГ, УЛ. ЛЕНСКАЯ, ДОМ 6, КОРПУС...</td>\n",
       "      <td>4007417097</td>\n",
       "      <td>ТП №33 ОТДЕЛА УФМС РОССИИ ПО САНКТ-ПЕТЕРБУРГУ ...</td>\n",
       "    </tr>\n",
       "  </tbody>\n",
       "</table>\n",
       "</div>"
      ],
      "text/plain": [
       "                                    0           1  \\\n",
       "305915        ЯЩУК АРКАДИЙ ЛЕОНИДОВИЧ   16.7.1994   \n",
       "305916          ЯЩУК ВАДИМ ЕВГЕНЬЕВИЧ  20.12.1993   \n",
       "305917        ЯЩУК ВЯЧЕСЛАВ АНДРЕЕВИЧ   26.3.1989   \n",
       "305918        ЯЩУК ВЯЧЕСЛАВ АНДРЕЕВИЧ   26.3.1989   \n",
       "305919           ЯЩУК ИЛЬЯ ЛЕОНИДОВИЧ    2.8.1989   \n",
       "305920          ЯЩУК МИХАИЛ РОМАНОВИЧ   28.2.1996   \n",
       "305921         ЯЩУК НИКИТА ЕВГЕНЬЕВИЧ   12.7.1996   \n",
       "305922    ЯЩУКОВСКИЙ НИКОЛАЙ ПЕТРОВИЧ   21.5.1993   \n",
       "305923  ЯЩУКОВСКИЙ ТИМОФЕЙ НИКОЛАЕВИЧ   21.9.1988   \n",
       "305924       ЯЩУК СЕРГЕЙ ВЛАДИМИРОВИЧ  27.12.1987   \n",
       "\n",
       "                                                        2           3  \\\n",
       "305915  Г. МОСКВА, Г. ЗЕЛЕНОГРАД, КОРПУС 1803, КВАРТИР...  4509804718   \n",
       "305916  Г. МОСКВА, УЛ. МАРФИНСКАЯ Б., ДОМ 1, КОРПУС 4,...  4513248313   \n",
       "305917  Г. МОСКВА, ПЕР. МАГИСТРАЛЬНЫЙ, ДОМ 7, КОРПУС 2...  4510061077   \n",
       "305918  Г. МОСКВА, ПЕР. МАГИСТРАЛЬНЫЙ, ДОМ 7, КОРПУС 2...  4518383649   \n",
       "305919  Г. САНКТ-ПЕТЕРБУРГ, ПР-КТ ТОРЕЗА, ДОМ 39, КОРП...  4008754770   \n",
       "305920  Г. САНКТ-ПЕТЕРБУРГ, Г. ПУШКИН, УЛ. ГЛИНКИ, ДОМ 23  1115096803   \n",
       "305921       Г. МОСКВА, ПЕР. СТОЛЯРНЫЙ, ДОМ 2, КВАРТИРА 4  4510822390   \n",
       "305922  ОБЛ. ТОМСКАЯ, Р-Н КАРГАСОКСКИЙ, С. НОВЫЙ ВАСЮГ...  6906167954   \n",
       "305923  ОБЛ. НОВОСИБИРСКАЯ, Р-Н НОВОСИБИРСКИЙ, С. КРИВ...  5008492276   \n",
       "305924  Г. САНКТ-ПЕТЕРБУРГ, УЛ. ЛЕНСКАЯ, ДОМ 6, КОРПУС...  4007417097   \n",
       "\n",
       "                                                        4  \n",
       "305915  ОТДЕЛЕНИЕ УФМС РОССИИ ПО ГОР. МОСКВЕ ПО РАЙОНУ...  \n",
       "305916  ОТДЕЛЕНИЕ УФМС РОССИИ ПО ГОР. МОСКВЕ ПО РАЙОНУ...  \n",
       "305917  ОТДЕЛЕНИЕ УФМС РОССИИ ПО ГОР. МОСКВЕ ПО РАЙОНУ...  \n",
       "305918  ОТДЕЛЕНИЕ УФМС РОССИИ ПО ГОР. МОСКВЕ ПО РАЙОНУ...  \n",
       "305919  ТП №61 ОТДЕЛА УФМС РОССИИ ПО САНКТ-ПЕТЕРБУРГУ ...  \n",
       "305920  ОТДЕЛЕНИЕ УФМС РОССИИ ПО АРХАНГЕЛЬСКОЙ ОБЛАСТИ...  \n",
       "305921  ОТДЕЛЕНИЕ ПО Р-НУ ПРЕСНЕНСКИЙ ОУФМС РОССИИ ПО ...  \n",
       "305922  ТП УФМС РОССИИ ПО ТОМСКОЙ ОБЛ. В КАРГАСОКСКОМ ...  \n",
       "305923  ОТДЕЛЕНИЕ УФМС РОССИИ ПО НОВОСИБИРСКОЙ ОБЛ. В ...  \n",
       "305924  ТП №33 ОТДЕЛА УФМС РОССИИ ПО САНКТ-ПЕТЕРБУРГУ ...  "
      ]
     },
     "execution_count": 10,
     "metadata": {},
     "output_type": "execute_result"
    }
   ],
   "source": [
    "df.tail(10)"
   ]
  },
  {
   "cell_type": "code",
   "execution_count": 11,
   "metadata": {},
   "outputs": [],
   "source": [
    "col = ['name', 'birthdate', 'info1', 'id', 'info2']\n",
    "df.columns = col"
   ]
  },
  {
   "cell_type": "code",
   "execution_count": 12,
   "metadata": {},
   "outputs": [
    {
     "name": "stdout",
     "output_type": "stream",
     "text": [
      "<class 'pandas.core.frame.DataFrame'>\n",
      "RangeIndex: 305925 entries, 0 to 305924\n",
      "Data columns (total 5 columns):\n",
      " #   Column     Non-Null Count   Dtype \n",
      "---  ------     --------------   ----- \n",
      " 0   name       305925 non-null  object\n",
      " 1   birthdate  305925 non-null  object\n",
      " 2   info1      305925 non-null  object\n",
      " 3   id         305925 non-null  int64 \n",
      " 4   info2      305920 non-null  object\n",
      "dtypes: int64(1), object(4)\n",
      "memory usage: 11.7+ MB\n"
     ]
    }
   ],
   "source": [
    "df.info()"
   ]
  },
  {
   "cell_type": "code",
   "execution_count": 14,
   "metadata": {},
   "outputs": [],
   "source": [
    "df['birthdate']= pd.to_datetime(df['birthdate'], format=\"dd.mm.yyyy\")"
   ]
  },
  {
   "cell_type": "code",
   "execution_count": 15,
   "metadata": {},
   "outputs": [
    {
     "name": "stdout",
     "output_type": "stream",
     "text": [
      "<class 'pandas.core.frame.DataFrame'>\n",
      "RangeIndex: 305925 entries, 0 to 305924\n",
      "Data columns (total 5 columns):\n",
      " #   Column     Non-Null Count   Dtype         \n",
      "---  ------     --------------   -----         \n",
      " 0   name       305925 non-null  object        \n",
      " 1   birthdate  305925 non-null  datetime64[ns]\n",
      " 2   info1      305925 non-null  object        \n",
      " 3   id         305925 non-null  int64         \n",
      " 4   info2      305920 non-null  object        \n",
      "dtypes: datetime64[ns](1), int64(1), object(3)\n",
      "memory usage: 11.7+ MB\n"
     ]
    }
   ],
   "source": [
    "df.info()"
   ]
  },
  {
   "cell_type": "code",
   "execution_count": 17,
   "metadata": {},
   "outputs": [
    {
     "data": {
      "image/png": "[encoded data removed]",
      "text/plain": [
       "<Figure size 432x288 with 1 Axes>"
      ]
     },
     "metadata": {
      "needs_background": "light"
     },
     "output_type": "display_data"
    }
   ],
   "source": [
    "df['birthdate'].hist(bins=100);\n"
   ]
  },
  {
   "cell_type": "code",
   "execution_count": 19,
   "metadata": {},
   "outputs": [
    {
     "data": {
      "image/png": "[encoded data removed]",
      "text/plain": [
       "<Figure size 432x288 with 1 Axes>"
      ]
     },
     "metadata": {
      "needs_background": "light"
     },
     "output_type": "display_data"
    }
   ],
   "source": [
    "df['birthdate'].hist(bins=20);"
   ]
  },
  {
   "cell_type": "code",
   "execution_count": 20,
   "metadata": {},
   "outputs": [
    {
     "data": {
      "text/plain": [
       "Timestamp('1998-12-31 00:00:00')"
      ]
     },
     "execution_count": 20,
     "metadata": {},
     "output_type": "execute_result"
    }
   ],
   "source": [
    "df['birthdate'].max()"
   ]
  },
  {
   "cell_type": "code",
   "execution_count": 21,
   "metadata": {},
   "outputs": [
    {
     "data": {
      "text/plain": [
       "Timestamp('1987-01-01 00:00:00')"
      ]
     },
     "execution_count": 21,
     "metadata": {},
     "output_type": "execute_result"
    }
   ],
   "source": [
    "df['birthdate'].min()"
   ]
  },
  {
   "cell_type": "code",
   "execution_count": 22,
   "metadata": {},
   "outputs": [
    {
     "data": {
      "text/html": [
       "<div>\n",
       "<style scoped>\n",
       "    .dataframe tbody tr th:only-of-type {\n",
       "        vertical-align: middle;\n",
       "    }\n",
       "\n",
       "    .dataframe tbody tr th {\n",
       "        vertical-align: top;\n",
       "    }\n",
       "\n",
       "    .dataframe thead th {\n",
       "        text-align: right;\n",
       "    }\n",
       "</style>\n",
       "<table border=\"1\" class=\"dataframe\">\n",
       "  <thead>\n",
       "    <tr style=\"text-align: right;\">\n",
       "      <th></th>\n",
       "      <th>name</th>\n",
       "      <th>birthdate</th>\n",
       "      <th>info1</th>\n",
       "      <th>id</th>\n",
       "      <th>info2</th>\n",
       "    </tr>\n",
       "  </thead>\n",
       "  <tbody>\n",
       "    <tr>\n",
       "      <th>0</th>\n",
       "      <td>ААРИНОЛА ДЖЕССЕ ПЕТЕРОВИЧ</td>\n",
       "      <td>1994-01-10</td>\n",
       "      <td>Г. МОСКВА, УЛ. ДОКУКИНА, ДОМ 9, КОРПУС 1, КВАР...</td>\n",
       "      <td>4510243117</td>\n",
       "      <td>ОТДЕЛЕНИЕ УФМС РОССИИ ПО ГОР. МОСКВЕ ПО РАЙОНУ...</td>\n",
       "    </tr>\n",
       "    <tr>\n",
       "      <th>1</th>\n",
       "      <td>АБАБИЙ ВАСИЛИЙ АЛЕКСЕЕВИЧ</td>\n",
       "      <td>1997-01-14</td>\n",
       "      <td>Г. САНКТ-ПЕТЕРБУРГ, П. СТРЕЛЬНА, Ш. САНКТ-ПЕТЕ...</td>\n",
       "      <td>3411009134</td>\n",
       "      <td>ТЕРРИТОРИАЛЬНЫЙ ПУНКТ УФМС РОССИИ ПО КОСТРОМСК...</td>\n",
       "    </tr>\n",
       "    <tr>\n",
       "      <th>2</th>\n",
       "      <td>АБАБИЙ РОМАН АРТУРОВИЧ</td>\n",
       "      <td>1997-05-15</td>\n",
       "      <td>ОБЛ. НИЖЕГОРОДСКАЯ, Г. НИЖНИЙ НОВГОРОД, ПЕР. 2...</td>\n",
       "      <td>2217682637</td>\n",
       "      <td>ОТДЕЛ УФМС РОССИИ ПО НИЖЕГОРОДСКОЙ ОБЛ. В ПРИО...</td>\n",
       "    </tr>\n",
       "    <tr>\n",
       "      <th>3</th>\n",
       "      <td>АБАБИН ЯРОСЛАВ ДАНИЛОВИЧ</td>\n",
       "      <td>1997-05-17</td>\n",
       "      <td>МОСКВА, КРЫЛАТСКИЕ ХОЛМЫ Д 21 КВ 191</td>\n",
       "      <td>4518270246</td>\n",
       "      <td>ОТДЕЛ УФМС РОССИИ ПО Г. МОСКВЕ ПО РАЙОНУ КРЫЛА...</td>\n",
       "    </tr>\n",
       "    <tr>\n",
       "      <th>4</th>\n",
       "      <td>АБАБКИН СЕРГЕЙ НИКОЛАЕВИЧ</td>\n",
       "      <td>1991-07-06</td>\n",
       "      <td>Г. САНКТ-ПЕТЕРБУРГ, УЛ. ДОБЛЕСТИ, ДОМ 22</td>\n",
       "      <td>411117055</td>\n",
       "      <td>ОТДЕЛ УФМС РОССИИ ПО КРАСНОЯРСКОМУ КРАЮ В Г. Н...</td>\n",
       "    </tr>\n",
       "    <tr>\n",
       "      <th>5</th>\n",
       "      <td>АБАБКОВ АЛЕКСАНДР ВИКТОРОВИЧ</td>\n",
       "      <td>1987-09-04</td>\n",
       "      <td>Г. САНКТ-ПЕТЕРБУРГ, ПР-КТ СЕВЕРНЫЙ, ДОМ 85, КО...</td>\n",
       "      <td>7406603443</td>\n",
       "      <td>УВД Г. НОВЫЙ УРЕНГОЙ ЯМАЛО-НЕНЕЦКОГО АВТОНОМНО...</td>\n",
       "    </tr>\n",
       "    <tr>\n",
       "      <th>6</th>\n",
       "      <td>АБАБКОВ АРТУР АЛЕКСАНДРОВИЧ</td>\n",
       "      <td>1997-06-06</td>\n",
       "      <td>ОБЛ. АМУРСКАЯ, Р-Н ЗЕЙСКИЙ, С. БОМНАК, УЛ. ФЕД...</td>\n",
       "      <td>1017531959</td>\n",
       "      <td>МО УФМС РОССИИ ПО АМУРСКОЙ ОБЛ. В Г. БЛАГОВЕЩЕ...</td>\n",
       "    </tr>\n",
       "    <tr>\n",
       "      <th>7</th>\n",
       "      <td>АБАГЯНЦ ЭДУАРД ВАРУЖАНОВИЧ</td>\n",
       "      <td>1992-03-04</td>\n",
       "      <td>КРАЙ СТАВРОПОЛЬСКИЙ, Г. ГЕОРГИЕВСК, ПЕР. ТРУДО...</td>\n",
       "      <td>711649237</td>\n",
       "      <td>ОТДЕЛ УФМС РОССИИ ПО СТАВРОПОЛЬСКОМУ КРАЮ И КА...</td>\n",
       "    </tr>\n",
       "    <tr>\n",
       "      <th>8</th>\n",
       "      <td>АБАДЖАН АРТЕМ ГАГИКОВИЧ</td>\n",
       "      <td>1991-11-18</td>\n",
       "      <td>КРАЙ КРАСНОДАРСКИЙ, Г. КРАСНОДАР, П. ЗНАМЕНСКИ...</td>\n",
       "      <td>316611438</td>\n",
       "      <td>ОУФМС РОССИИ ПО КРАСНОДАРСКОМУ КРАЮ В КАРАСУНС...</td>\n",
       "    </tr>\n",
       "    <tr>\n",
       "      <th>9</th>\n",
       "      <td>АБАДЖИДИ СЕРГЕЙ ИВАНОВИЧ</td>\n",
       "      <td>1993-07-14</td>\n",
       "      <td>КРАЙ КРАСНОДАРСКИЙ, Р-Н ТЕМРЮКСКИЙ, Г. ТЕМРЮК,...</td>\n",
       "      <td>6013390727</td>\n",
       "      <td>МО УФМС РОССИ ПО РОСТОВСКОЙ ОБЛ. В П. ЗИМОВНИКИ</td>\n",
       "    </tr>\n",
       "  </tbody>\n",
       "</table>\n",
       "</div>"
      ],
      "text/plain": [
       "                           name  birthdate  \\\n",
       "0     ААРИНОЛА ДЖЕССЕ ПЕТЕРОВИЧ 1994-01-10   \n",
       "1     АБАБИЙ ВАСИЛИЙ АЛЕКСЕЕВИЧ 1997-01-14   \n",
       "2        АБАБИЙ РОМАН АРТУРОВИЧ 1997-05-15   \n",
       "3      АБАБИН ЯРОСЛАВ ДАНИЛОВИЧ 1997-05-17   \n",
       "4     АБАБКИН СЕРГЕЙ НИКОЛАЕВИЧ 1991-07-06   \n",
       "5  АБАБКОВ АЛЕКСАНДР ВИКТОРОВИЧ 1987-09-04   \n",
       "6   АБАБКОВ АРТУР АЛЕКСАНДРОВИЧ 1997-06-06   \n",
       "7    АБАГЯНЦ ЭДУАРД ВАРУЖАНОВИЧ 1992-03-04   \n",
       "8       АБАДЖАН АРТЕМ ГАГИКОВИЧ 1991-11-18   \n",
       "9      АБАДЖИДИ СЕРГЕЙ ИВАНОВИЧ 1993-07-14   \n",
       "\n",
       "                                               info1          id  \\\n",
       "0  Г. МОСКВА, УЛ. ДОКУКИНА, ДОМ 9, КОРПУС 1, КВАР...  4510243117   \n",
       "1  Г. САНКТ-ПЕТЕРБУРГ, П. СТРЕЛЬНА, Ш. САНКТ-ПЕТЕ...  3411009134   \n",
       "2  ОБЛ. НИЖЕГОРОДСКАЯ, Г. НИЖНИЙ НОВГОРОД, ПЕР. 2...  2217682637   \n",
       "3               МОСКВА, КРЫЛАТСКИЕ ХОЛМЫ Д 21 КВ 191  4518270246   \n",
       "4           Г. САНКТ-ПЕТЕРБУРГ, УЛ. ДОБЛЕСТИ, ДОМ 22   411117055   \n",
       "5  Г. САНКТ-ПЕТЕРБУРГ, ПР-КТ СЕВЕРНЫЙ, ДОМ 85, КО...  7406603443   \n",
       "6  ОБЛ. АМУРСКАЯ, Р-Н ЗЕЙСКИЙ, С. БОМНАК, УЛ. ФЕД...  1017531959   \n",
       "7  КРАЙ СТАВРОПОЛЬСКИЙ, Г. ГЕОРГИЕВСК, ПЕР. ТРУДО...   711649237   \n",
       "8  КРАЙ КРАСНОДАРСКИЙ, Г. КРАСНОДАР, П. ЗНАМЕНСКИ...   316611438   \n",
       "9  КРАЙ КРАСНОДАРСКИЙ, Р-Н ТЕМРЮКСКИЙ, Г. ТЕМРЮК,...  6013390727   \n",
       "\n",
       "                                               info2  \n",
       "0  ОТДЕЛЕНИЕ УФМС РОССИИ ПО ГОР. МОСКВЕ ПО РАЙОНУ...  \n",
       "1  ТЕРРИТОРИАЛЬНЫЙ ПУНКТ УФМС РОССИИ ПО КОСТРОМСК...  \n",
       "2  ОТДЕЛ УФМС РОССИИ ПО НИЖЕГОРОДСКОЙ ОБЛ. В ПРИО...  \n",
       "3  ОТДЕЛ УФМС РОССИИ ПО Г. МОСКВЕ ПО РАЙОНУ КРЫЛА...  \n",
       "4  ОТДЕЛ УФМС РОССИИ ПО КРАСНОЯРСКОМУ КРАЮ В Г. Н...  \n",
       "5  УВД Г. НОВЫЙ УРЕНГОЙ ЯМАЛО-НЕНЕЦКОГО АВТОНОМНО...  \n",
       "6  МО УФМС РОССИИ ПО АМУРСКОЙ ОБЛ. В Г. БЛАГОВЕЩЕ...  \n",
       "7  ОТДЕЛ УФМС РОССИИ ПО СТАВРОПОЛЬСКОМУ КРАЮ И КА...  \n",
       "8  ОУФМС РОССИИ ПО КРАСНОДАРСКОМУ КРАЮ В КАРАСУНС...  \n",
       "9    МО УФМС РОССИ ПО РОСТОВСКОЙ ОБЛ. В П. ЗИМОВНИКИ  "
      ]
     },
     "execution_count": 22,
     "metadata": {},
     "output_type": "execute_result"
    }
   ],
   "source": [
    "df.head(10)"
   ]
  },
  {
   "cell_type": "code",
   "execution_count": 26,
   "metadata": {},
   "outputs": [
    {
     "data": {
      "text/plain": [
       "0.06400000000000002"
      ]
     },
     "execution_count": 26,
     "metadata": {},
     "output_type": "execute_result"
    }
   ],
   "source": [
    ".4 ** 3"
   ]
  },
  {
   "cell_type": "code",
   "execution_count": 33,
   "metadata": {},
   "outputs": [],
   "source": [
    "# try to understand the difference between below\n",
    "# df['info1'].str.split(',').str[0]\n",
    "# df['info1'].str.split(',')[0]"
   ]
  },
  {
   "cell_type": "code",
   "execution_count": 34,
   "metadata": {},
   "outputs": [],
   "source": [
    "df['living_city'] = df['info1'].str.split(',').str[0]\n"
   ]
  },
  {
   "cell_type": "code",
   "execution_count": 36,
   "metadata": {},
   "outputs": [
    {
     "data": {
      "text/plain": [
       "Г. САНКТ-ПЕТЕРБУРГ     73564\n",
       "Г. МОСКВА              66723\n",
       "КРАЙ АЛТАЙСКИЙ         22285\n",
       "ОБЛ. НИЖЕГОРОДСКАЯ     20319\n",
       "КРАЙ КРАСНОДАРСКИЙ     19895\n",
       "РЕСП. УДМУРТСКАЯ       16550\n",
       "КРАЙ СТАВРОПОЛЬСКИЙ    12833\n",
       "ОБЛ. АМУРСКАЯ           8445\n",
       "ОБЛ. КУРГАНСКАЯ         7860\n",
       "ОБЛ. ТЮМЕНСКАЯ          5972\n",
       "Name: living_city, dtype: int64"
      ]
     },
     "execution_count": 36,
     "metadata": {},
     "output_type": "execute_result"
    }
   ],
   "source": [
    "df['living_city'].value_counts()[:10]"
   ]
  },
  {
   "cell_type": "code",
   "execution_count": 37,
   "metadata": {},
   "outputs": [
    {
     "data": {
      "text/plain": [
       "'УВД Г. НОВЫЙ УРЕНГОЙ ЯМАЛО-НЕНЕЦКОГО АВТОНОМНОГО ОКРУГА'"
      ]
     },
     "execution_count": 37,
     "metadata": {},
     "output_type": "execute_result"
    }
   ],
   "source": [
    "df['info2'][5]"
   ]
  },
  {
   "cell_type": "code",
   "execution_count": 39,
   "metadata": {},
   "outputs": [
    {
     "data": {
      "text/plain": [
       "'ОБЛ. АМУРСКАЯ'"
      ]
     },
     "execution_count": 39,
     "metadata": {},
     "output_type": "execute_result"
    }
   ],
   "source": [
    "df['living_city'][6]"
   ]
  },
  {
   "cell_type": "code",
   "execution_count": 40,
   "metadata": {},
   "outputs": [
    {
     "data": {
      "text/plain": [
       "'МО УФМС РОССИИ ПО АМУРСКОЙ ОБЛ. В Г. БЛАГОВЕЩЕНСКЕ'"
      ]
     },
     "execution_count": 40,
     "metadata": {},
     "output_type": "execute_result"
    }
   ],
   "source": [
    "df['info2'][6]"
   ]
  },
  {
   "cell_type": "code",
   "execution_count": null,
   "metadata": {},
   "outputs": [],
   "source": []
  }
 ],
 "metadata": {
  "kernelspec": {
   "display_name": "Python 3.10.5 64-bit",
   "language": "python",
   "name": "python3"
  },
  "language_info": {
   "codemirror_mode": {
    "name": "ipython",
    "version": 3
   },
   "file_extension": ".py",
   "mimetype": "text/x-python",
   "name": "python",
   "nbconvert_exporter": "python",
   "pygments_lexer": "ipython3",
   "version": "3.10.5"
  },
  "orig_nbformat": 4,
  "vscode": {
   "interpreter": {
    "hash": "aee8b7b246df8f9039afb4144a1f6fd8d2ca17a180786b69acc140d282b71a49"
   }
  }
 },
 "nbformat": 4,
 "nbformat_minor": 2
}
